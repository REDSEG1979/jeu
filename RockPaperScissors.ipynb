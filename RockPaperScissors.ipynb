{
 "cells": [
  {
   "cell_type": "code",
   "execution_count": 83,
   "id": "4c33af69",
   "metadata": {},
   "outputs": [],
   "source": [
    "import tkinter as tk\n",
    "import random"
   ]
  },
  {
   "cell_type": "code",
   "execution_count": 96,
   "id": "68d05a8a",
   "metadata": {},
   "outputs": [],
   "source": [
    "def play():\n",
    "    u_choice = usr_default.get()\n",
    "    c_choice = random.choice(options)\n",
    "    cpu_choice.config(text = c_choice)\n",
    "    \n",
    "    if (u_choice == \"Rock\" and c_choice == \"Paper\") or (u_choice == \"Scissors\" and c_choice == \"Rock\") or (u_choice == \"Paper\" and c_choice == \"Scissors\"):\n",
    "        score = int(cpu_score.cget(\"text\"))\n",
    "        cpu_score.config(text = str(score + 1))\n",
    "        \n",
    "    elif (c_choice == \"Rock\" and u_choice == \"Paper\") or (c_choice == \"Scissors\" and u_choice == \"Rock\") or (c_choice == \"Paper\" and u_choice == \"Scissors\"):\n",
    "        score = int(usr_score.cget(\"text\"))\n",
    "        usr_score.config(text = str(score + 1))"
   ]
  },
  {
   "cell_type": "code",
   "execution_count": 97,
   "id": "6adb0a1e",
   "metadata": {},
   "outputs": [],
   "source": [
    "window = tk.Tk()\n",
    "window.title(\"Rock Paper Scissors\")\n",
    "window.geometry(\"320x220\")\n",
    "window.resizable(width=False, height=False)\n",
    "\n",
    "scoresheet_frame = tk.Frame(master=window)\n",
    "usr_score_label = tk.Label(master=scoresheet_frame, text=\"YOU\")\n",
    "usr_score = tk.Label(master=scoresheet_frame, text=\"0\")\n",
    "cpu_score_label = tk.Label(master=scoresheet_frame, text=\"CPU\")\n",
    "cpu_score = tk.Label(master=scoresheet_frame, text=\"0\")\n",
    "\n",
    "usr_score_label.grid(row=0, column=0)\n",
    "usr_score.grid(row=1, column=0)\n",
    "cpu_score_label.grid(row=0, column=1)\n",
    "cpu_score.grid(row=1, column=1)\n",
    "\n",
    "usr_frame = tk.Frame(master=window)\n",
    "usr_label = tk.Label(master=usr_frame, text=\"You\")\n",
    "usr_default = tk.StringVar()\n",
    "usr_default.set('')\n",
    "options = [\n",
    "    \"Rock\",\n",
    "    \"Paper\",\n",
    "    \"Scissors\",\n",
    "]\n",
    "\n",
    "usr_choice = tk.OptionMenu(usr_frame, usr_default, *options)\n",
    "\n",
    "usr_label.grid(row=0, column=0)\n",
    "usr_choice.grid(row=1, column=0)\n",
    "\n",
    "cpu_frame = tk.Frame(master=window)\n",
    "cpu_label = tk.Label(master=cpu_frame, text=\"Computer\")\n",
    "cpu_choice = tk.Label(master=cpu_frame)\n",
    "\n",
    "cpu_label.grid(row=0, column=0)\n",
    "cpu_choice.grid(row=1, column=0)\n",
    "\n",
    "button = tk.Button(master=window, text=\"Convert\", command=play)\n",
    "\n",
    "scoresheet_frame.pack(padx=20, pady=5)\n",
    "usr_frame.pack(padx=20, pady=5)\n",
    "cpu_frame.pack(padx=20, pady=5)\n",
    "button.pack(padx=20, pady=5)\n",
    "\n",
    "\n",
    "window.mainloop()"
   ]
  },
  {
   "cell_type": "code",
   "execution_count": null,
   "id": "7784d75f",
   "metadata": {},
   "outputs": [],
   "source": []
  },
  {
   "cell_type": "code",
   "execution_count": null,
   "id": "95583831",
   "metadata": {},
   "outputs": [],
   "source": []
  }
 ],
 "metadata": {
  "kernelspec": {
   "display_name": "Python 3 (ipykernel)",
   "language": "python",
   "name": "python3"
  },
  "language_info": {
   "codemirror_mode": {
    "name": "ipython",
    "version": 3
   },
   "file_extension": ".py",
   "mimetype": "text/x-python",
   "name": "python",
   "nbconvert_exporter": "python",
   "pygments_lexer": "ipython3",
   "version": "3.10.4"
  }
 },
 "nbformat": 4,
 "nbformat_minor": 5
}
